{
 "cells": [
  {
   "cell_type": "code",
   "execution_count": null,
   "id": "ed347d4a-5808-439a-9ae2-fdea39646d90",
   "metadata": {},
   "outputs": [],
   "source": [
    "import mesa\n",
    "\n",
    "# Data visualization tools.\n",
    "import seaborn as sns\n",
    "\n",
    "# Has multi-dimensional arrays and matrices. Has a large collection of\n",
    "# mathematical functions to operate on these arrays.\n",
    "import numpy as np\n",
    "\n",
    "# Data manipulation and analysis.\n",
    "import pandas as pd"
   ]
  },
  {
   "cell_type": "code",
   "execution_count": null,
   "id": "04e3220a-9d95-49e7-af91-779f75bbd308",
   "metadata": {},
   "outputs": [],
   "source": [
    "def compute_gini(model):\n",
    "    agent_wealths = [agent.wealth for agent in model.schedule.agents]\n",
    "    x = sorted(agent_wealths)\n",
    "    N = model.num_agents\n",
    "    B = sum(xi * (N - i) for i, xi in enumerate(x)) / (N * sum(x))\n",
    "    return 1 + (1 / N) - 2 * B\n"
   ]
  },
  {
   "cell_type": "code",
   "execution_count": null,
   "id": "67395694-6ee6-4ba7-8044-611e2bc865c8",
   "metadata": {},
   "outputs": [],
   "source": [
    "class MoneyAgent(mesa.Agent):\n",
    "    \"\"\"An agent with fixed initial wealth.\"\"\"\n",
    "\n",
    "    def __init__(self, unique_id, model):\n",
    "        # Pass the parameters to the parent class.\n",
    "        super().__init__(unique_id, model)\n",
    "\n",
    "        # Create the agent's attribute and set the initial values.\n",
    "        self.wealth = 1\n",
    "\n",
    "    def step(self):\n",
    "        # Verify agent has some wealth\n",
    "        self.move()\n",
    "        if self.wealth > 0:\n",
    "            self.give_money()\n",
    "\n",
    "    def move(self):\n",
    "        possible_steps = self.model.grid.get_neighborhood(\n",
    "            self.pos,\n",
    "            moore=True,\n",
    "            include_center=False)\n",
    "        new_position = self.random.choice(possible_steps)\n",
    "        self.model.grid.move_agent(self, new_position)\n",
    "\n",
    "    def give_money(self):\n",
    "        cellmates = self.model.grid.get_cell_list_contents([self.pos])\n",
    "        cellmates.pop(\n",
    "            cellmates.index(self)\n",
    "        )  # Ensure agent is not giving money to itself\n",
    "        if len(cellmates) > 1:\n",
    "            other = self.random.choice(cellmates)\n",
    "            other.wealth += 1\n",
    "            self.wealth -= 1\n",
    "            if other == self:\n",
    "                print(\"I JUST GAVE MONEY TO MYSELF HEHEHE!\")\n",
    "\n",
    "        "
   ]
  },
  {
   "cell_type": "code",
   "execution_count": null,
   "id": "45f21cdd-d356-43cf-ba66-b7f46b06e31d",
   "metadata": {},
   "outputs": [],
   "source": [
    "class MoneyModel(mesa.Model):\n",
    "    \"\"\"A model with some number of agents.\"\"\"\n",
    "\n",
    "    def __init__(self, N, width, height):\n",
    "        super().__init__()\n",
    "        self.num_agents = N\n",
    "        self.grid = mesa.space.MultiGrid(width, height, True)\n",
    "        self.schedule = mesa.time.RandomActivation(self)\n",
    "\n",
    "        # Create agents\n",
    "        for i in range(self.num_agents):\n",
    "            a = MoneyAgent(i, self)\n",
    "            self.schedule.add(a)\n",
    "\n",
    "            # Add the agent to a random grid cell\n",
    "            x = self.random.randrange(self.grid.width)\n",
    "            y = self.random.randrange(self.grid.height)\n",
    "            self.grid.place_agent(a, (x, y))\n",
    "\n",
    "        self.datacollector = mesa.DataCollector(\n",
    "            model_reporters={\"Gini\": compute_gini}, agent_reporters={\"Wealth\": \"wealth\"}\n",
    "        )\n",
    "    \n",
    "    def step(self):\n",
    "        \"\"\"Advance the model by one step.\"\"\"\n",
    "        self.datacollector.collect(self)\n",
    "        self.schedule.step()\n"
   ]
  },
  {
   "cell_type": "code",
   "execution_count": null,
   "id": "df1f6049-b7cb-454a-ad84-d964faad18ef",
   "metadata": {},
   "outputs": [],
   "source": [
    "all_wealths = []\n",
    "grid_width = 10\n",
    "grid_height = 10\n",
    "nr_agents = 100\n",
    "nr_steps = 100\n",
    "nr_iterations = 5\n",
    "\n",
    "# This runs the model nr_iterations times, each model executing nr_steps steps.\n",
    "for j in range(nr_iterations):\n",
    "    # Run the model\n",
    "    model = MoneyModel(nr_agents, grid_width, grid_height)\n",
    "    for i in range(nr_steps):\n",
    "        model.step()\n",
    "\n",
    "    # Store the results\n",
    "    for agent in model.schedule.agents:\n",
    "        all_wealths.append(agent.wealth)\n",
    "\n"
   ]
  },
  {
   "cell_type": "code",
   "execution_count": null,
   "id": "016f927e-ce79-449e-a442-c07a787ac913",
   "metadata": {},
   "outputs": [],
   "source": [
    "# Use seaborn\n",
    "g = sns.histplot(all_wealths, discrete=True)\n",
    "g.set(title=\"Wealth distribution\", xlabel=\"Wealth\", ylabel=\"Number of agents\");"
   ]
  },
  {
   "cell_type": "code",
   "execution_count": null,
   "id": "7ff1975c-15d1-4df9-88d9-5528adfd4868",
   "metadata": {},
   "outputs": [],
   "source": [
    "gini = model.datacollector.get_model_vars_dataframe()\n",
    "# Plot the Gini coefficient over time\n",
    "g = sns.lineplot(data=gini)\n",
    "g.set(title=\"Gini Coefficient over Time\", ylabel=\"Gini Coefficient\", xlabel=\"Step\");"
   ]
  },
  {
   "cell_type": "code",
   "execution_count": null,
   "id": "fbb47308-9517-4880-9d6e-89a142c5e673",
   "metadata": {},
   "outputs": [],
   "source": [
    "agent_wealth = model.datacollector.get_agent_vars_dataframe()\n",
    "# agent_wealth.head()\n",
    "# len(agent_wealth)"
   ]
  },
  {
   "cell_type": "code",
   "execution_count": null,
   "id": "89713820-f6ab-4087-948d-339e16cccf76",
   "metadata": {},
   "outputs": [],
   "source": [
    "last_step = agent_wealth.index.get_level_values(\"Step\").max()\n",
    "end_wealth = agent_wealth.xs(last_step, level=\"Step\")[\"Wealth\"]\n",
    "# Create a histogram of wealth at the last step\n",
    "g = sns.histplot(end_wealth, discrete=True)\n",
    "g.set(\n",
    "    title=\"Distribution of wealth at the end of simulation\",\n",
    "    xlabel=\"Wealth\",\n",
    "    ylabel=\"Number of agents\",\n",
    ");"
   ]
  },
  {
   "cell_type": "code",
   "execution_count": null,
   "id": "717a7134-b547-481a-90cb-0ec196c24519",
   "metadata": {},
   "outputs": [],
   "source": [
    "# Get the wealth of agent 14 over time\n",
    "one_agent_wealth = agent_wealth.xs(14, level=\"AgentID\")\n",
    "\n",
    "# Plot the wealth of agent 14 over time\n",
    "g = sns.lineplot(data=one_agent_wealth, x=\"Step\", y=\"Wealth\")\n",
    "g.set(title=\"Wealth of agent 14 over time\");"
   ]
  },
  {
   "cell_type": "code",
   "execution_count": null,
   "id": "aac47ef4-cc00-4589-9141-63a8f070f74e",
   "metadata": {},
   "outputs": [],
   "source": [
    "agent_counts = np.zeros((model.grid.width, model.grid.height))\n",
    "for cell_content, (x, y) in model.grid.coord_iter():\n",
    "    agent_count = len(cell_content)\n",
    "    agent_counts[x][y] = agent_count\n",
    "# Plot using seaborn, with a size of 5x5\n",
    "g = sns.heatmap(agent_counts, cmap=\"viridis\", annot=True, cbar=False, square=True)\n",
    "g.figure.set_size_inches(4, 4)\n",
    "g.set(title=\"Number of agents on each cell of the grid\");"
   ]
  },
  {
   "cell_type": "code",
   "execution_count": null,
   "id": "6869aa19-0998-4f53-83fb-ab01a5b0177a",
   "metadata": {},
   "outputs": [],
   "source": [
    "# Different distributions\n",
    "max_wealth = max(all_wealths)\n",
    "min_wealth = min(all_wealths)\n",
    "mean_wealth = np.mean(all_wealths)\n",
    "same_wealths = [mean_wealth for i in all_wealths]\n",
    "random_wealths = [np.random.randint(min_wealth, max_wealth+1) for i in all_wealths]\n",
    "gaussian_wealth = [np.random.normal((min_wealth+max_wealth)/2) for i in all_wealths]\n"
   ]
  },
  {
   "cell_type": "code",
   "execution_count": null,
   "id": "d947564a-e83d-478c-b494-996149c1b15f",
   "metadata": {},
   "outputs": [],
   "source": [
    "min_wealth"
   ]
  },
  {
   "cell_type": "code",
   "execution_count": null,
   "id": "a99f3469-81b2-49da-832b-006b3f2de26e",
   "metadata": {},
   "outputs": [],
   "source": [
    "# Use seaborn\n",
    "g = sns.histplot(same_wealths, discrete=True)\n",
    "g.set(title=\"Wealth distribution\", xlabel=\"Wealth\", ylabel=\"Number of agents\");"
   ]
  },
  {
   "cell_type": "code",
   "execution_count": null,
   "id": "b5a6e081-d0ab-4973-bf9a-823b5dbd20e5",
   "metadata": {},
   "outputs": [],
   "source": [
    "# Use seaborn\n",
    "g = sns.histplot(random_wealths, discrete=True)\n",
    "g.set(title=\"Wealth distribution\", xlabel=\"Wealth\", ylabel=\"Number of agents\");"
   ]
  },
  {
   "cell_type": "code",
   "execution_count": null,
   "id": "ce8e91a9-39f4-4d95-9e71-ffc47164ea7a",
   "metadata": {},
   "outputs": [],
   "source": [
    "# Use seaborn\n",
    "g = sns.histplot(gaussian_wealth, discrete=True)\n",
    "g.set(title=\"Wealth distribution\", xlabel=\"Wealth\", ylabel=\"Number of agents\");"
   ]
  },
  {
   "cell_type": "code",
   "execution_count": null,
   "id": "c3e14a49-b667-4e99-b800-d6ee3d8162d2",
   "metadata": {},
   "outputs": [],
   "source": []
  }
 ],
 "metadata": {
  "kernelspec": {
   "display_name": "Python 3 (ipykernel)",
   "language": "python",
   "name": "python3"
  },
  "language_info": {
   "codemirror_mode": {
    "name": "ipython",
    "version": 3
   },
   "file_extension": ".py",
   "mimetype": "text/x-python",
   "name": "python",
   "nbconvert_exporter": "python",
   "pygments_lexer": "ipython3",
   "version": "3.11.0"
  }
 },
 "nbformat": 4,
 "nbformat_minor": 5
}
