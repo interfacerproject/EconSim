{
 "cells": [
  {
   "cell_type": "code",
   "execution_count": null,
   "id": "ed347d4a-5808-439a-9ae2-fdea39646d90",
   "metadata": {},
   "outputs": [],
   "source": [
    "# The following should reload files if we change them on disk\n",
    "%load_ext autoreload\n",
    "%aimport econsim.work, econsim.resources, econsim.makeragent, econsim.designer, econsim.producer, econsim.serviceprovider, econsim.utils, econsim.distmakingmodel, econsim.market\n",
    "%autoreload 1\n",
    "\n",
    "from pdb import set_trace"
   ]
  },
  {
   "cell_type": "code",
   "execution_count": null,
   "id": "df1f6049-b7cb-454a-ad84-d964faad18ef",
   "metadata": {},
   "outputs": [],
   "source": [
    "# The agent platform\n",
    "import mesa\n",
    "from econsim.distmakingmodel import DistMakingModel\n",
    "from econsim.utils import generate_ranges, process_batch_results, gen_stats\n",
    "\n",
    "range_weights, _price_weight, _quality_ratio, range_living_cost, range_threshold, range_resources = generate_ranges(2)\n",
    "\n",
    "params = {\"designers\": 20, \n",
    "          \"producers\": 20, \n",
    "          \"initial_wealth\":10, \n",
    "          \"weights\": range_weights, \n",
    "          \"living_cost\": range_living_cost, \n",
    "          \"threshold\": range_threshold,\n",
    "          \"resources_amount\": range_resources\n",
    "          }\n",
    "\n",
    "iterations = 1\n",
    "max_steps=100\n",
    "\n",
    "\n",
    "results = mesa.batch_run(\n",
    "    DistMakingModel,\n",
    "    parameters=params,\n",
    "    iterations=iterations,\n",
    "    # max_steps=max_steps-1, # steps start from 0\n",
    "    max_steps=max_steps,\n",
    "    number_processes=1,\n",
    "    data_collection_period=-1,\n",
    "    display_progress=True,\n",
    ")\n"
   ]
  },
  {
   "cell_type": "code",
   "execution_count": null,
   "id": "0b75433c",
   "metadata": {},
   "outputs": [],
   "source": [
    "ag_res_df, ag_glob_df, product_results_df = process_batch_results(results)\n",
    "\n",
    "stats = gen_stats(max_steps, range_weights, range_living_cost, range_threshold, ag_res_df)\n",
    "\n",
    "stats"
   ]
  },
  {
   "cell_type": "code",
   "execution_count": null,
   "id": "8b65e16e-36d3-4e89-8132-f8e7f087f414",
   "metadata": {},
   "outputs": [],
   "source": [
    "# Data visualization tools.\n",
    "import matplotlib.pyplot as plt\n",
    "import seaborn as sns\n",
    "\n",
    "\n",
    "for pw,qw,sw in range_weights:\n",
    "    for lc in range_living_cost:\n",
    "        for t in range_threshold:\n",
    "            \n",
    "            plt.figure()\n",
    "            data=ag_res_df.loc[ (ag_res_df[\"price_weight\"] == pw) & \n",
    "                (ag_res_df[\"quality_weight\"] == qw) & \n",
    "                (ag_res_df[\"sustainability_weight\"] == sw) & \n",
    "                (ag_res_df[\"living_cost\"] == lc) & \n",
    "                (ag_res_df[\"threshold\"] == t)\n",
    "            ]\n",
    "            g = sns.lineplot(\n",
    "                data=data,\n",
    "                x=\"Step\",\n",
    "                y=\"Alive\",\n",
    "                hue=\"AgentType\", palette=\"tab10\",\n",
    "                errorbar=None,\n",
    "            )\n",
    "            g.figure.set_size_inches(8, 4)\n",
    "            g.set(\n",
    "                title=f\"Average Alive, price_weight {pw}, living cost {lc}, threshold {t}\",\n",
    "                ylabel=\"Alive\",\n",
    "            )\n",
    "            g"
   ]
  },
  {
   "cell_type": "code",
   "execution_count": null,
   "id": "23c17c26-b746-470d-b033-4a4a6670e9e0",
   "metadata": {},
   "outputs": [],
   "source": [
    "# import matplotlib.pyplot as plt\n",
    "\n",
    "for ag_type in [\"Designer\", \"Producer\"]:\n",
    "    for facet in [\"Skill\", \"Fee\"]:\n",
    "        for pw,qw,sw in range_weights:\n",
    "            for lc in range_living_cost:\n",
    "                for t in range_threshold:\n",
    "\n",
    "                    plt.figure()\n",
    "                    data=ag_res_df.loc[ (ag_res_df[\"AgentType\"] == ag_type) &\n",
    "                        (ag_res_df[\"price_weight\"] == pw) & \n",
    "                        (ag_res_df[\"quality_weight\"] == qw) & \n",
    "                        (ag_res_df[\"sustainability_weight\"] == sw) & \n",
    "                        (ag_res_df[\"living_cost\"] == lc) & \n",
    "                        (ag_res_df[\"threshold\"] == t)\n",
    "                    ]\n",
    "\n",
    "                    g = sns.lineplot(\n",
    "                        data=data,\n",
    "                        x=\"Step\", y=\"Wealth\", hue=facet, style=facet, palette=\"tab10\",\n",
    "                        # errorbar='sd',\n",
    "                        errorbar=None,\n",
    "                    )\n",
    "                    g.figure.set_size_inches(8, 4)\n",
    "                    g.set(\n",
    "                        title=f\"Average wealth {ag_type}s per {facet} level, weights {pw},{qw},{sw}, living cost {lc}, threshold {t}\",\n",
    "                        ylabel=\"Wealth\",\n",
    "                    )\n",
    "                    g"
   ]
  },
  {
   "cell_type": "code",
   "execution_count": null,
   "id": "abc7814d-bab5-41a9-8260-b0faabdcbed9",
   "metadata": {},
   "outputs": [],
   "source": [
    "g = sns.lineplot(\n",
    "    data=ag_res_df, x=\"Step\", y=\"Wealth\", hue=\"AgentType\", palette=\"tab10\",\n",
    "    errorbar=None,\n",
    ")\n",
    "g.figure.set_size_inches(8, 4)\n",
    "g.set(\n",
    "    title=\"Average wealth\",\n",
    "    ylabel=\"Wealth\",\n",
    ")"
   ]
  },
  {
   "cell_type": "code",
   "execution_count": null,
   "id": "9d345595-ca43-4e30-8e1f-71ccca430822",
   "metadata": {},
   "outputs": [],
   "source": [
    "g = sns.lineplot(\n",
    "    data=ag_glob_df, x=\"Step\", y=\"Gini\",\n",
    "    errorbar=None,\n",
    ")\n",
    "g.figure.set_size_inches(8, 4)\n",
    "g.set(\n",
    "    title=\"Average Gini coefficient\",\n",
    "    ylabel=\"Gini coeff\",\n",
    ")"
   ]
  },
  {
   "cell_type": "code",
   "execution_count": null,
   "id": "5afdc913-7ed0-4934-a641-3ce85c122143",
   "metadata": {},
   "outputs": [],
   "source": [
    "g = sns.lineplot(\n",
    "    data=product_results_df, x=\"Step\", y=\"Designs in Progress\"\n",
    ")\n",
    "g.figure.set_size_inches(8, 4)\n",
    "g.set(\n",
    "    title=\"Average Designs in Progress\",\n",
    "    ylabel=\"Design in Progress\",\n",
    ")"
   ]
  },
  {
   "cell_type": "code",
   "execution_count": null,
   "id": "d777cf12-686d-4ac4-b915-0ea73eacdcd0",
   "metadata": {},
   "outputs": [],
   "source": [
    "g = sns.lineplot(\n",
    "    data=product_results_df, x=\"Step\", y=\"Realized Designs\"\n",
    ")\n",
    "g.figure.set_size_inches(8, 4)\n",
    "g.set(\n",
    "    title=\"Average Realized Designs\",\n",
    "    ylabel=\"Realized Designs\",\n",
    ")"
   ]
  },
  {
   "cell_type": "code",
   "execution_count": null,
   "id": "f274cc2e-fa2d-4b19-9949-8d33904bf490",
   "metadata": {},
   "outputs": [],
   "source": [
    "g = sns.lineplot(\n",
    "    data=product_results_df, x=\"Step\", y=\"Products in Progress\"\n",
    ")\n",
    "g.figure.set_size_inches(8, 4)\n",
    "g.set(\n",
    "    title=\"Average Products in Progress\",\n",
    "    ylabel=\"Products in Progress\",\n",
    ")"
   ]
  },
  {
   "cell_type": "code",
   "execution_count": null,
   "id": "2aab3d45-5c5f-4d1c-b048-1c47f1b5e214",
   "metadata": {},
   "outputs": [],
   "source": [
    "g = sns.lineplot(\n",
    "    data=product_results_df, x=\"Step\", y=\"On-sale Products\"\n",
    ")\n",
    "g.figure.set_size_inches(8, 4)\n",
    "g.set(\n",
    "    title=\"Average On-sale Products\",\n",
    "    ylabel=\"On-sale Products\",\n",
    ")"
   ]
  },
  {
   "cell_type": "code",
   "execution_count": null,
   "id": "5b289200-0e36-48a7-bdb0-ccccf16f21c2",
   "metadata": {},
   "outputs": [],
   "source": [
    "g = sns.lineplot(\n",
    "    data=product_results_df, x=\"Step\", y=\"Sold Products\"\n",
    ")\n",
    "g.figure.set_size_inches(8, 4)\n",
    "g.set(\n",
    "    title=\"Average Sold Products\",\n",
    "    ylabel=\"Sold Products\",\n",
    ")"
   ]
  },
  {
   "cell_type": "code",
   "execution_count": null,
   "id": "3fb82dd3-4e76-478d-a520-2293f83ba85e",
   "metadata": {},
   "outputs": [],
   "source": []
  }
 ],
 "metadata": {
  "kernelspec": {
   "display_name": "Python 3 (ipykernel)",
   "language": "python",
   "name": "python3"
  },
  "language_info": {
   "codemirror_mode": {
    "name": "ipython",
    "version": 3
   },
   "file_extension": ".py",
   "mimetype": "text/x-python",
   "name": "python",
   "nbconvert_exporter": "python",
   "pygments_lexer": "ipython3",
   "version": "3.11.0"
  }
 },
 "nbformat": 4,
 "nbformat_minor": 5
}
